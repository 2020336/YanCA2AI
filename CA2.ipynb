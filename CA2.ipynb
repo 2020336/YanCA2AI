{
 "cells": [
  {
   "cell_type": "markdown",
   "id": "14ebd5d0",
   "metadata": {},
   "source": [
    "# CA2 - Artificial Intelligence\n",
    "\n",
    "**Name:** Yan Kida Sanches Fontes Oliveira<br>\n",
    "**Student Number:** 2020336\n",
    "**GitHub:** https://github.com/YanFontes/YanCA2AI"
   ]
  },
  {
   "cell_type": "markdown",
   "id": "27eec6f3",
   "metadata": {},
   "source": [
    "## Question 1 \n",
    "A puzzle has multiple ways of reaching the end solution. Fig. 1 shows a graph that represents all possible routes to the solution. The starting point of the game is represented by A, the solution is represented by S. The other points in the graph are possible intermediary stages. \n",
    "\n",
    "(a)\tThe graph in Fig. 1 is a visualisation of the problem.<br>\n",
    "(i)\tIdentify the differences between a graph and a tree. [0-5] <br>\n",
    "(ii)\tExplain in detail how the graph is an abstraction of the problem. [0-5] <br>\n",
    "(iii)\tIdentify the advantages of using a visualisation such as the one shown in Fig. 1. [0-5]<br><br> \n",
    "(b)\tDemonstrate how Dijkstra’s algorithm would find the shortest path to the solution in Fig.1 through diagrams and written explanation of each stage. [0-25]\n",
    "\n",
    "\n"
   ]
  },
  {
   "cell_type": "markdown",
   "id": "07fc5dc5",
   "metadata": {},
   "source": [
    "## Question 2\n",
    "The creator of the puzzle has been told that the A* algorithm is more efficient at finding the shortest path because it uses heuristics. Compare the performance of Dijkstra’s algorithm and the A* search algorithm, referring to heuristics, to find the shortest path to the problem by implementing both algorithms programmatically and comparing the solutions generated in Mark-down. Refer to the complexity of the algorithms and compare the actual time it takes for the solutions to be processed. [0-60]"
   ]
  },
  {
   "cell_type": "code",
   "execution_count": 29,
   "id": "5c373dd4",
   "metadata": {},
   "outputs": [
    {
     "name": "stdout",
     "output_type": "stream",
     "text": [
      "Shortest path cost from A to S using Dijkstra's algorithm: 17\n",
      "Shortest path from A to S: ['A', 'B', 'C', 'G', 'L', 'N', 'S']\n",
      "Execution time: 0.0 seconds\n"
     ]
    }
   ],
   "source": [
    "import heapq\n",
    "import time\n",
    "\n",
    "def dijkstra(graph, start, end):\n",
    "    start_time = time.time()\n",
    "    heap = [(0, start, [])]\n",
    "    visited = set()\n",
    "\n",
    "    while heap:\n",
    "        (cost, current, path) = heapq.heappop(heap)\n",
    "\n",
    "        if current in visited:\n",
    "            continue\n",
    "\n",
    "        visited.add(current)\n",
    "\n",
    "        if current == end:\n",
    "            end_time = time.time()\n",
    "            elapsed_time = end_time - start_time\n",
    "            return cost, path + [current], elapsed_time\n",
    "\n",
    "        for neighbor, weight in graph[current].items():\n",
    "            heapq.heappush(heap, (cost + weight, neighbor, path + [current]))\n",
    "\n",
    "    return float('inf'), [], 0\n",
    "\n",
    "# Test Dijkstra's algorithm with path and timing\n",
    "start_node = 'A'\n",
    "end_node = 'S'\n",
    "dijkstra_cost, dijkstra_path, dijkstra_time = dijkstra(graph, start_node, end_node)\n",
    "print(f\"Shortest path cost from {start_node} to {end_node} using Dijkstra's algorithm: {dijkstra_cost}\")\n",
    "print(f\"Shortest path from {start_node} to {end_node}: {dijkstra_path}\")\n",
    "print(f\"Execution time: {dijkstra_time} seconds\")\n"
   ]
  },
  {
   "cell_type": "code",
   "execution_count": 25,
   "id": "e651be32",
   "metadata": {},
   "outputs": [],
   "source": [
    "#Replicating giving graph to a python code\n",
    "graph = {\n",
    "    'A': {'B': 1, 'C': 5, 'H': 2},\n",
    "    'B': {'A': 1, 'C': 2, 'D': 4},\n",
    "    'C': {'A': 5, 'B': 2, 'G': 1},\n",
    "    'D': {'B': 4, 'E': 4, 'F': 7, 'L': 7},\n",
    "    'E': {'D': 4, 'F': 3, 'W': 6},\n",
    "    'F': {'D': 7, 'E': 3, 'G': 2},\n",
    "    'G': {'C': 1, 'F': 2, 'L': 3},\n",
    "    'H': {'A': 2, 'J': 9, 'K': 5},\n",
    "    'J': {'H': 9, 'K': 3, 'N': 6},\n",
    "    'K': {'H': 5, 'J': 3, 'L': 5},\n",
    "    'L': {'D': 7, 'G': 3, 'K': 5, 'N': 3, 'W': 8, 'V': 10, 'M': 4},\n",
    "    'M': {'L': 4, 'P': 2, 'Q': 10},\n",
    "    'N': {'J': 6, 'L': 3, 'S': 7, 'P': 4},\n",
    "    'P': {'N': 4, 'M': 2, 'R': 5},\n",
    "    'Q': {'W': 4, 'S': 8, 'M': 10},\n",
    "    'R': {'S': 4, 'P': 5, 'T': 3},\n",
    "    'S': {'V': 6, 'U': 2, 'T': 4, 'R': 4, 'N': 7, 'Q': 8},\n",
    "    'T': {'U': 1, 'S': 4, 'R': 3},\n",
    "    'U': {'V': 3, 'S': 2, 'T': 1},\n",
    "    'V': {'L': 10, 'W': 5, 'S': 6, 'U': 3},\n",
    "    'W': {'E': 6, 'L': 8, 'Q': 4, 'V': 5}\n",
    "}"
   ]
  },
  {
   "cell_type": "code",
   "execution_count": 27,
   "id": "6b887ff4",
   "metadata": {},
   "outputs": [
    {
     "name": "stdout",
     "output_type": "stream",
     "text": [
      "Shortest path cost from A to S using A* algorithm with heuristic: 49\n",
      "Shortest path from A to S: ['A', 'H', 'J', 'N', 'S']\n",
      "Execution time: 0.0 seconds\n"
     ]
    }
   ],
   "source": [
    "import heapq\n",
    "import time\n",
    "\n",
    "def heuristic(node, goal):\n",
    "    # Assuming Euclidean distance as the heuristic\n",
    "    x1, y1 = ord(node) - ord('A'), 0\n",
    "    x2, y2 = ord(goal) - ord('A'), 0\n",
    "    return abs(x1 - x2)\n",
    "\n",
    "def astar(graph, start, goal):\n",
    "    start_time = time.time()\n",
    "    open_set = [(0, start, [])]\n",
    "    visited = set()\n",
    "\n",
    "    while open_set:\n",
    "        cost, current, path = heapq.heappop(open_set)\n",
    "\n",
    "        if current in visited:\n",
    "            continue\n",
    "\n",
    "        visited.add(current)\n",
    "\n",
    "        if current == goal:\n",
    "            end_time = time.time()\n",
    "            elapsed_time = end_time - start_time\n",
    "            return cost, path + [current], elapsed_time\n",
    "\n",
    "        for neighbor, weight in graph[current].items():\n",
    "            heapq.heappush(open_set, (cost + weight + heuristic(neighbor, goal), neighbor, path + [current]))\n",
    "\n",
    "    return float('inf'), [], 0\n",
    "\n",
    "# Test A* algorithm with path, heuristic, and timing\n",
    "start_node = 'A'\n",
    "end_node = 'S'\n",
    "astar_cost, astar_path, astar_time = astar(graph, start_node, end_node)\n",
    "print(f\"Shortest path cost from {start_node} to {end_node} using A* algorithm with heuristic: {astar_cost}\")\n",
    "print(f\"Shortest path from {start_node} to {end_node}: {astar_path}\")\n",
    "print(f\"Execution time: {astar_time} seconds\")\n"
   ]
  },
  {
   "cell_type": "code",
   "execution_count": null,
   "id": "89cb5798",
   "metadata": {},
   "outputs": [],
   "source": []
  }
 ],
 "metadata": {
  "kernelspec": {
   "display_name": "Python 3 (ipykernel)",
   "language": "python",
   "name": "python3"
  },
  "language_info": {
   "codemirror_mode": {
    "name": "ipython",
    "version": 3
   },
   "file_extension": ".py",
   "mimetype": "text/x-python",
   "name": "python",
   "nbconvert_exporter": "python",
   "pygments_lexer": "ipython3",
   "version": "3.11.4"
  }
 },
 "nbformat": 4,
 "nbformat_minor": 5
}
